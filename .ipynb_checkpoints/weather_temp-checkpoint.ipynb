{
 "cells": [
  {
   "cell_type": "code",
   "execution_count": 3,
   "metadata": {},
   "outputs": [],
   "source": [
    "import pandas as pd\n",
    "import numpy as np\n",
    "import scipy.stats as st\n",
    "\n",
    "import requests\n",
    "import json\n",
    "\n",
    "import scipy.stats as st\n",
    "\n",
    "import citipy as cp"
   ]
  },
  {
   "cell_type": "code",
   "execution_count": 21,
   "metadata": {},
   "outputs": [
    {
     "name": "stdout",
     "output_type": "stream",
     "text": [
      "[None, None, None, None, None, None, None, None, None, None]\n",
      "0\n",
      "1\n",
      "2\n",
      "3\n",
      "4\n",
      "5\n",
      "6\n",
      "7\n",
      "8\n",
      "9\n"
     ]
    }
   ],
   "source": [
    "lat_range = np.arange(-90.00, 90.00, 0.01)\n",
    "lon_range = np.arange(-180.00, 180.00, 0.01)\n",
    "\n",
    "lats = np.random.choice(lat_range, 10)\n",
    "lons = np.random.choice(lon_range, 10)\n",
    "\n",
    "lat_lon_df = pd.DataFrame({\"latitude\" : lats, \n",
    "                           \"longitude\" : lons})\n",
    "\n",
    "cities = [None] * len(lat_lon_df)\n",
    "\n",
    "print(cities)\n",
    "\n",
    "for i in range(len(lat_lon_df)):\n",
    "    print(i)"
   ]
  },
  {
   "cell_type": "code",
   "execution_count": null,
   "metadata": {},
   "outputs": [],
   "source": [
    "citipy.nearest_city(22.99, 120.21)"
   ]
  }
 ],
 "metadata": {
  "kernelspec": {
   "display_name": "Python [conda env:PythonData] *",
   "language": "python",
   "name": "conda-env-PythonData-py"
  },
  "language_info": {
   "codemirror_mode": {
    "name": "ipython",
    "version": 3
   },
   "file_extension": ".py",
   "mimetype": "text/x-python",
   "name": "python",
   "nbconvert_exporter": "python",
   "pygments_lexer": "ipython3",
   "version": "3.6.10"
  }
 },
 "nbformat": 4,
 "nbformat_minor": 4
}
